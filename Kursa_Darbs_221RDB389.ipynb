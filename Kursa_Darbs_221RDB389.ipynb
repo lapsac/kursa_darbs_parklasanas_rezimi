{
 "cells": [
  {
   "cell_type": "markdown",
   "metadata": {},
   "source": [
    "# <center> \"Kursa darba tēmas nosaukums\" </center>\n",
    "\n",
    "<div style=\"text-align: right\"> \n",
    "</div>"
   ]
  },
  {
   "cell_type": "markdown",
   "metadata": {},
   "source": [
    "### Kursa darba teorētiskā daļa  "
   ]
  },
  {
   "cell_type": "markdown",
   "metadata": {},
   "source": [
    "<hr><b>Uzdevuma nostādne:</b><br><br>\n",
    "\n",
    "Realizēt lietotni, animēto pārejas efektu izveidei starp diviem attēliem.\n",
    "\n",
    "Nedrīkst izmantot bibliotēkas pārejas realizācijai (pārejas algoritmi jāprogrammē pašiem)\n",
    "\n",
    "Konsoles programmas (bez lietotāja saskarnes) netiks pieņemtas\n",
    "<hr>"
   ]
  },
  {
   "cell_type": "markdown",
   "metadata": {},
   "source": [
    "<hr><b>Tēmas teorētiskais apraksts</b><br><br>\n",
    "\n",
    "Jārealizē 3 pārejas efekti (Swipe, Curtain, Fade)<br>\n",
    "    Lietotājam jābūt iespējai atvērt divus jebkādus attēlus, izmantojot lietotāja saskarni<br>\n",
    "    Lietotnē paredzēt iespēju parādīt reāllaika animāciju izvēlēto divu attēlu pārejai<br>\n",
    "    \n",
    "<hr>"
   ]
  },
  {
   "cell_type": "markdown",
   "metadata": {},
   "source": [
    "<hr><b>Izmantotās Python bibliotēkas</b><br><br>\n",
    "\n",
    "import tkinter as tk <br>\n",
    "-izmantots priekš vizuālā interfeisa<br>\n",
    "from PIL import ImageTk, Image<br>\n",
    "-biblioteka prieks tkinter, lai tas spej darboties ar attēliem<br>\n",
    "import time<br>\n",
    "-laika bibliotēka, jo man nepieciešama pāreja preikš attēliem, sekundēs, lai veidojas animācija<br>\n",
    "\n",
    "<hr>"
   ]
  },
  {
   "cell_type": "markdown",
   "metadata": {},
   "source": [
    "<hr><b>Izmantotie avoti</b><br><br>\n",
    "https://pythonexamples.org/python-tkinter-button-background-color/ <br>\n",
    "https://realpython.com/python-gui-tkinter/ <br>\n",
    "https://www.geeksforgeeks.org/python-tkinter-tutorial/#working\n",
    "\n",
    "    \n",
    "<hr>"
   ]
  },
  {
   "cell_type": "markdown",
   "metadata": {},
   "source": [
    "### Kursa darba praktiskā daļa"
   ]
  },
  {
   "cell_type": "code",
   "execution_count": 2,
   "metadata": {},
   "outputs": [
    {
     "ename": "NameError",
     "evalue": "name 'root' is not defined",
     "output_type": "error",
     "traceback": [
      "\u001b[1;31m---------------------------------------------------------------------------\u001b[0m",
      "\u001b[1;31mNameError\u001b[0m                                 Traceback (most recent call last)",
      "\u001b[1;32m~\\AppData\\Local\\Temp\\ipykernel_7176\\1277429627.py\u001b[0m in \u001b[0;36m<module>\u001b[1;34m\u001b[0m\n\u001b[0;32m     95\u001b[0m \u001b[0mfade_btn\u001b[0m\u001b[1;33m.\u001b[0m\u001b[0mplace\u001b[0m\u001b[1;33m(\u001b[0m\u001b[0mx\u001b[0m\u001b[1;33m=\u001b[0m\u001b[1;36m550\u001b[0m\u001b[1;33m,\u001b[0m \u001b[0my\u001b[0m\u001b[1;33m=\u001b[0m\u001b[1;36m50\u001b[0m\u001b[1;33m)\u001b[0m\u001b[1;33m\u001b[0m\u001b[1;33m\u001b[0m\u001b[0m\n\u001b[0;32m     96\u001b[0m \u001b[1;31m#cikls noslēdzas\u001b[0m\u001b[1;33m\u001b[0m\u001b[1;33m\u001b[0m\u001b[0m\n\u001b[1;32m---> 97\u001b[1;33m \u001b[0mroot\u001b[0m\u001b[1;33m.\u001b[0m\u001b[0mmainloop\u001b[0m\u001b[1;33m(\u001b[0m\u001b[1;33m)\u001b[0m\u001b[1;33m\u001b[0m\u001b[1;33m\u001b[0m\u001b[0m\n\u001b[0m",
      "\u001b[1;31mNameError\u001b[0m: name 'root' is not defined"
     ]
    }
   ],
   "source": [
    "import tkinter as tk\n",
    "from PIL import ImageTk, Image\n",
    "import time\n",
    "\n",
    "window = tk.Tk()\n",
    "#tkinter GUI nosaukums\n",
    "window.title(\"kursa darbs Lauma Gailīte\")\n",
    "#gui izmers\n",
    "window.geometry(\"700x700\")\n",
    "#fona krasa\n",
    "window.configure(bg=\"black\")\n",
    "\n",
    "def swipe_effect():\n",
    "    # ielādē bildes\n",
    "    img1 = Image.open(\"baikals.png\")\n",
    "    img2 = Image.open(\"summer.png\")\n",
    "\n",
    "    # izveido kanvas un bildes\n",
    "    #pieskir izmerus kanvai, lai proporcionali ar bildem\n",
    "    canvas = tk.Canvas(window, width=img1.width, height=img1.height)\n",
    "    canvas.pack()\n",
    "    canvas.place(x=100, y=100)\n",
    "    img1_tk = ImageTk.PhotoImage(img1)\n",
    "    img2_tk = ImageTk.PhotoImage(img2)\n",
    "\n",
    "     # kanvai pievieno bildes\n",
    "        #anchor ir lai bilde strādā iekš kanvas\n",
    "    canvas.create_image(0, 0, anchor=tk.NW, image=img1_tk)\n",
    "    canvas.create_image(0, 0, anchor=tk.NW, image=img2_tk)\n",
    "\n",
    "    #izveidots cikls lai animetu bildes\n",
    "    for i in range(img1.width):\n",
    "        canvas.move(1, -1, 0)\n",
    "        canvas.move(2, -1, 0)\n",
    "        for i in range(img2.width):\n",
    "            canvas.move(0, 0, 0)\n",
    "            canvas.move(0, 0, 0)\n",
    "        #logs atjaunojas, lai var pildit citas funkcijas\n",
    "        window.update()\n",
    "        \n",
    "#swipe effekts un tā funkcija\n",
    "swipe_btn = tk.Button(window, text=\"Swipe\", command=swipe_effect)\n",
    "#pogas pozicija\n",
    "swipe_btn.place(x=100, y=50)\n",
    "\n",
    "def curtain_effect():\n",
    "    # ielādē bildes\n",
    "    img1 = Image.open(\"baikals.png\")\n",
    "    img2 = Image.open(\"summer.png\")\n",
    "\n",
    "    # izveido kanvas un bildes\n",
    "    canvas = tk.Canvas(window, width=img1.width, height=img1.height)\n",
    "    canvas.pack()\n",
    "    canvas.place(x=100, y=100)\n",
    "    img1_tk = ImageTk.PhotoImage(img1)\n",
    "    img2_tk = ImageTk.PhotoImage(img2)\n",
    "\n",
    "    # kanvai pievieno bildes\n",
    "    canvas.create_image(0, 0, anchor=tk.NW, image=img1_tk)\n",
    "    canvas.create_image(0, 0, anchor=tk.NW, image=img2_tk)\n",
    "\n",
    "    #izveidots cikls lai animetu bildes\n",
    "    for i in range(img1.height):\n",
    "        canvas.create_rectangle(0, i, img1.width, img1.height, fill=\"black\")\n",
    "        \n",
    "    window.update()\n",
    "    \n",
    "curtain_btn = tk.Button(window, text=\"Curtain\", command=curtain_effect)\n",
    "curtain_btn.place(x=300, y=50)\n",
    "\n",
    "def fade_effect():\n",
    "    # ielādē bildes\n",
    "    img1 = Image.open(\"baikals.png\")\n",
    "    img2 = Image.open(\"summer.png\")\n",
    "\n",
    "    # izveido kanvas un bildes\n",
    "    canvas = tk.Canvas(window, width=img1.width, height=img1.height)\n",
    "    canvas.pack()\n",
    "    canvas.place(x=100, y=100)\n",
    "    img1_tk = ImageTk.PhotoImage(img1)\n",
    "    img2_tk = ImageTk.PhotoImage(img2)\n",
    "\n",
    "    # kanvai pievieno bildes\n",
    "    canvas.create_image(0, 0, anchor=tk.NW, image=img2_tk)\n",
    "    canvas.create_image(0, 0, anchor=tk.NW, image=img1_tk)\n",
    "\n",
    "    #izveidots cikls lai animetu bildes\n",
    "    for i in range(100):\n",
    "        alpha = i / 100\n",
    "        canvas.itemconfigure(2, state=tk.NORMAL)\n",
    "        time.sleep(0.5)\n",
    "        window.update()\n",
    "#fade poga\n",
    "fade_btn = tk.Button(window, text=\"Fade\", command=fade_effect)\n",
    "fade_btn.place(x=550, y=50)\n",
    "#cikls noslēdzas\n",
    "root.mainloop()"
   ]
  },
  {
   "cell_type": "code",
   "execution_count": null,
   "metadata": {},
   "outputs": [],
   "source": []
  }
 ],
 "metadata": {
  "kernelspec": {
   "display_name": "Python 3 (ipykernel)",
   "language": "python",
   "name": "python3"
  },
  "language_info": {
   "codemirror_mode": {
    "name": "ipython",
    "version": 3
   },
   "file_extension": ".py",
   "mimetype": "text/x-python",
   "name": "python",
   "nbconvert_exporter": "python",
   "pygments_lexer": "ipython3",
   "version": "3.9.13"
  }
 },
 "nbformat": 4,
 "nbformat_minor": 4
}
